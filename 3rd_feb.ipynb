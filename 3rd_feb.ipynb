{
 "cells": [
  {
   "cell_type": "code",
   "execution_count": 2,
   "id": "edc7878d-e73a-4bbf-b8bb-f5531a6b7e32",
   "metadata": {
    "tags": []
   },
   "outputs": [
    {
     "name": "stdout",
     "output_type": "stream",
     "text": [
      "[1, 3, 5, 7, 9, 11, 13, 15, 17, 19, 21, 23, 25]\n"
     ]
    }
   ],
   "source": [
    "# Q1. Which keyword is used to create a function? Create a function to return a list of odd numbers in the range of 1 to 25.\n",
    "# ans 1 :- \"def\" is used to create a function\n",
    "# a function to create a list of odd numbers to create a function to return a list of odd numbers\n",
    "a=[]\n",
    "def oddfun(a):\n",
    "    for i in range (1,26):\n",
    "        if i % 2 == 0 :\n",
    "            continue\n",
    "        else :\n",
    "            a.append(i)\n",
    "oddfun(a)\n",
    "print (a)"
   ]
  },
  {
   "cell_type": "code",
   "execution_count": 13,
   "id": "0fde1419-a97b-479f-83d4-e478b2b1a1e5",
   "metadata": {
    "tags": []
   },
   "outputs": [
    {
     "name": "stdout",
     "output_type": "stream",
     "text": [
      "the total no. of arguments passed by user are: 3\n",
      "the arguments passed by the user are:\n",
      "the total no. of arguments passed by the user are: 3\n",
      "the arguments passsed by the user are:\n"
     ]
    },
    {
     "data": {
      "text/plain": [
       "{'a': 3, 'b': 4, 'c': 5}"
      ]
     },
     "execution_count": 13,
     "metadata": {},
     "output_type": "execute_result"
    }
   ],
   "source": [
    "# Q2. Why *args and **kwargs is used in some functions? Create a function each for *args and **kwargs to demonstrate their use.\n",
    "# ans 2 :- * args : it is used for passing the arguments in dynamic format , that is to pass multiple arguments based on the user \n",
    "#                 : its return type would be in tuple format\n",
    "#                 : the elements are not stored in key value pairs\n",
    "#          **kwargs : it is similar to * args, that is to pass multple arguments in dynamic format\n",
    "#                   : its return type would be in dictionary format\n",
    "#                   : the elements are stored in key value pairs\n",
    "def fun1(*parameters1):\n",
    "    print (\"the total no. of arguments passed by user are:\", len(parameters1))\n",
    "    print (\"the arguments passed by the user are:\")\n",
    "    return parameters1\n",
    "fun1(1,2,3)\n",
    "\n",
    "def fun2(**parameters2):\n",
    "    print (\"the total no. of arguments passed by the user are:\", len(parameters2))\n",
    "    print (\"the arguments passsed by the user are:\")\n",
    "    return parameters2\n",
    "fun2(a=3,b=4,c=5)"
   ]
  },
  {
   "cell_type": "code",
   "execution_count": 11,
   "id": "be2b7b66-a869-478c-b3a0-3be31a06425c",
   "metadata": {
    "tags": []
   },
   "outputs": [
    {
     "name": "stdout",
     "output_type": "stream",
     "text": [
      "2\n",
      "4\n",
      "6\n",
      "8\n",
      "10\n"
     ]
    }
   ],
   "source": [
    "# Q3. What is an iterator in python? Name the method used to initialise the iterator object and the method\n",
    "# used for iteration. Use these methods to print the first five elements of the given list [2, 4, 6, 8, 10, 12, 14,\n",
    "# 16, 18, 20].\n",
    "# ans 3 :- an iterator is a type that can iterate the data elements or collection of data , like list, tuple, etc\n",
    "#       :- iterators allow for efficient access to elements in a sequence one at a time\n",
    "#       :- iter() - to initialise an iterator object\n",
    "#       :- next() - method used for iteration\n",
    "a=[2,4,6,8,10,12,14,16,18,20]\n",
    "b=iter(a)\n",
    "for i in range(5):\n",
    "    print(next(b))"
   ]
  },
  {
   "cell_type": "code",
   "execution_count": 13,
   "id": "2bfafc41-ac23-43ca-ba25-87f13ae66c8d",
   "metadata": {
    "tags": []
   },
   "outputs": [
    {
     "name": "stdout",
     "output_type": "stream",
     "text": [
      "d\n",
      "i\n",
      "e\n"
     ]
    }
   ],
   "source": [
    "# Q4.  What is a generator function in python? Why yield keyword is used? Give an example of a generator function.\n",
    "# ans 4 :- a generator function is used to create a generator object, which can be further used as iterators\n",
    "#       :- to create a generator function we have to use yield keyword to a variable\n",
    "#       :- yield is a keyword, which is assigned to a variable or value that can throwback a value, it is used instead of return\n",
    "#       :- yield is used in a function to make the particular function a generator function\n",
    "def fun2(a):\n",
    "    for i in range (len(a)):\n",
    "        b=a[i]\n",
    "        yield b\n",
    "for x in fun2(\"die\"):\n",
    "    print(x)"
   ]
  },
  {
   "cell_type": "code",
   "execution_count": 10,
   "id": "a47ca343-10f0-4ceb-bfd5-8d116a476cc4",
   "metadata": {
    "collapsed": true,
    "jupyter": {
     "outputs_hidden": true
    },
    "tags": []
   },
   "outputs": [
    {
     "name": "stdout",
     "output_type": "stream",
     "text": [
      "2\n",
      "3\n",
      "5\n",
      "7\n",
      "11\n",
      "13\n",
      "17\n",
      "19\n",
      "23\n",
      "29\n",
      "31\n",
      "37\n",
      "41\n",
      "43\n",
      "47\n",
      "53\n",
      "59\n",
      "61\n",
      "67\n",
      "71\n"
     ]
    }
   ],
   "source": [
    "# Q5. Create a generator function for prime numbers less than 1000. Use the next() method to print the first 20 prime numbers.\n",
    "def fun(n):\n",
    "    for i in range(2,n):\n",
    "        for j in range(2,i):\n",
    "            if i%j==0:\n",
    "                break\n",
    "        else:\n",
    "            yield i\n",
    "A=[]\n",
    "for m in fun(1000):\n",
    "    A.append(m)\n",
    "B=iter(A)\n",
    "for y in range(20):\n",
    "    print(next(B))"
   ]
  },
  {
   "cell_type": "code",
   "execution_count": 13,
   "id": "76232225-8cea-4caa-925f-25868a666ff6",
   "metadata": {
    "tags": []
   },
   "outputs": [
    {
     "name": "stdout",
     "output_type": "stream",
     "text": [
      "0\n",
      "1\n",
      "1\n",
      "2\n",
      "3\n",
      "5\n",
      "8\n",
      "13\n",
      "21\n",
      "34\n",
      "55\n"
     ]
    }
   ],
   "source": [
    "# Q6. Write a python program to print the first 10 Fibonacci numbers using a while loop.\n",
    "def fib(n):\n",
    "    i=0\n",
    "    a=0\n",
    "    b=1\n",
    "    while i <= n:\n",
    "        yield a \n",
    "        c=a\n",
    "        a=b\n",
    "        b=a+c\n",
    "        i=i+1\n",
    "A=[]\n",
    "for x in fib(10):\n",
    "    A.append(x)\n",
    "B=iter(A)\n",
    "for k in range(len(A)):\n",
    "    print(next(B))"
   ]
  },
  {
   "cell_type": "code",
   "execution_count": 14,
   "id": "58254d15-55d3-46ec-8b2f-db5db7a146a1",
   "metadata": {},
   "outputs": [
    {
     "name": "stdout",
     "output_type": "stream",
     "text": [
      "['p', 'w', 's', 'k', 'i', 'l', 'l', 's']\n"
     ]
    }
   ],
   "source": [
    "# Q7. Write a List Comprehension to iterate through the given string: ‘pwskills’. Expected output: ['p', 'w', 's', 'k', 'i', 'l', 'l', 's'] \n",
    "a='pwskills'\n",
    "l=[ x for x in a]\n",
    "print(l)"
   ]
  },
  {
   "cell_type": "code",
   "execution_count": 21,
   "id": "c0442a36-4725-42f2-b38d-7aa9c0edca78",
   "metadata": {
    "tags": []
   },
   "outputs": [
    {
     "name": "stdin",
     "output_type": "stream",
     "text": [
      "enter a number: 10101\n"
     ]
    },
    {
     "name": "stdout",
     "output_type": "stream",
     "text": [
      "10101 is palindrome\n"
     ]
    }
   ],
   "source": [
    "# Q8. Write a python program to check whether a given number is Palindrome or not using a while loop.\n",
    "a=str(input(\"enter a number:\"))\n",
    "b=a[::-1]\n",
    "if a == b:\n",
    "    print (a, \"is palindrome\")\n",
    "else:\n",
    "    print(\"not a palindrome\")\n",
    "    "
   ]
  },
  {
   "cell_type": "code",
   "execution_count": null,
   "id": "cbba4753-41e3-4e60-9654-cccd82e509d2",
   "metadata": {},
   "outputs": [],
   "source": [
    "# Q9. Write a code to print odd numbers from 1 to 100 using list comprehension.\n",
    "a=[ i for i in range(100) if i%2!=0]"
   ]
  }
 ],
 "metadata": {
  "kernelspec": {
   "display_name": "Python 3 (ipykernel)",
   "language": "python",
   "name": "python3"
  },
  "language_info": {
   "codemirror_mode": {
    "name": "ipython",
    "version": 3
   },
   "file_extension": ".py",
   "mimetype": "text/x-python",
   "name": "python",
   "nbconvert_exporter": "python",
   "pygments_lexer": "ipython3",
   "version": "3.10.8"
  }
 },
 "nbformat": 4,
 "nbformat_minor": 5
}
