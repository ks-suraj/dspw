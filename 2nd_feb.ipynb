{
 "cells": [
  {
   "cell_type": "code",
   "execution_count": 4,
   "id": "0a6317c5-5b5b-4437-a4ec-1e7ba8c1886f",
   "metadata": {
    "collapsed": true,
    "jupyter": {
     "outputs_hidden": true
    },
    "tags": []
   },
   "outputs": [
    {
     "name": "stdout",
     "output_type": "stream",
     "text": [
      "0\n",
      "1\n",
      "2\n",
      "3\n",
      "4\n",
      "5\n",
      "6\n",
      "7\n",
      "8\n",
      "9\n",
      "0\n",
      "1\n",
      "2\n",
      "3\n",
      "4\n",
      "5\n",
      "6\n",
      "7\n",
      "8\n",
      "9\n",
      "10\n",
      "11\n",
      "12\n",
      "13\n",
      "14\n",
      "15\n",
      "16\n",
      "17\n",
      "18\n",
      "19\n",
      "20\n",
      "21\n",
      "22\n"
     ]
    }
   ],
   "source": [
    "# ans.1 :- when to use while loop and for loop\n",
    "# for loop:- for loop is used for a contiguous process without breaks and when we know the precised number of times to run a loop\n",
    "for a in range (10):\n",
    "    print (a)\n",
    "    \n",
    "# while loop :- when we have no idea about the number of times a loop has to run\n",
    "\n",
    "m=0\n",
    "while (m<23):\n",
    "    print(m)\n",
    "    m=m+1\n"
   ]
  },
  {
   "cell_type": "code",
   "execution_count": 11,
   "id": "07999226-277e-444c-b035-3fa80dcc4c9d",
   "metadata": {
    "collapsed": true,
    "jupyter": {
     "outputs_hidden": true
    },
    "tags": []
   },
   "outputs": [
    {
     "name": "stdout",
     "output_type": "stream",
     "text": [
      "sum is: 55\n",
      "product is: 3628800\n",
      "sum is: 55\n",
      "product is: 3628800\n"
     ]
    }
   ],
   "source": [
    "# ans.2 - sum and product of natural numbers\n",
    "# using for loop\n",
    "sum=0\n",
    "prod=1\n",
    "for a in range (1,11):\n",
    "    sum =sum + a\n",
    "    prod = prod * a\n",
    "print (\"sum is:\", sum)\n",
    "print (\"product is:\",prod)\n",
    "# using while loop\n",
    "sum1=0;prod1=1\n",
    "b=1\n",
    "while (b<11):\n",
    "    sum1=sum1+b\n",
    "    prod1=prod1*b\n",
    "    b=b+1\n",
    "print(\"sum is:\", sum1)\n",
    "print(\"product is:\", prod1)"
   ]
  },
  {
   "cell_type": "code",
   "execution_count": 23,
   "id": "6b9d5eb6-0186-45c9-b151-d6ac3d5411ae",
   "metadata": {},
   "outputs": [
    {
     "name": "stdin",
     "output_type": "stream",
     "text": [
      "enter the number of units consumed : 313\n"
     ]
    },
    {
     "name": "stdout",
     "output_type": "stream",
     "text": [
      "the units are 313 hence the price is  2310.0\n"
     ]
    }
   ],
   "source": [
    "# ans.3- computing electricity bill\n",
    "units=int(input(\"enter the number of units consumed :\"))\n",
    "a= units - 100\n",
    "if (a<= 0):\n",
    "    price = units*4.5\n",
    "elif (a>=0) and (a<= 100):\n",
    "    price = a*6 + 100*4.5\n",
    "elif (a>100) and (a<=200):\n",
    "    b=a-100\n",
    "    price = b*10 + 100*6 + 100*4.5\n",
    "elif (a>200):\n",
    "    b=a-100\n",
    "    c=b-100\n",
    "    price = c*20 + 100*10 + 100*6 + 100*4.5\n",
    "print (\"the units are\", units ,\"hence the price is \", price)\n",
    "\n"
   ]
  },
  {
   "cell_type": "code",
   "execution_count": 41,
   "id": "370463f5-4ecc-4250-876d-157883b46a01",
   "metadata": {
    "collapsed": true,
    "jupyter": {
     "outputs_hidden": true
    },
    "tags": []
   },
   "outputs": [
    {
     "name": "stdout",
     "output_type": "stream",
     "text": [
      "[1, 2, 3, 4, 5, 6, 7, 8, 9, 10, 11, 12, 13, 14, 15, 16, 17, 18, 19, 20, 21, 22, 23, 24, 25, 26, 27, 28, 29, 30, 31, 32, 33, 34, 35, 36, 37, 38, 39, 40, 41, 42, 43, 44, 45, 46, 47, 48, 49, 50, 51, 52, 53, 54, 55, 56, 57, 58, 59, 60, 61, 62, 63, 64, 65, 66, 67, 68, 69, 70, 71, 72, 73, 74, 75, 76, 77, 78, 79, 80, 81, 82, 83, 84, 85, 86, 87, 88, 89, 90, 91, 92, 93, 94, 95, 96, 97, 98, 99, 100]\n",
      "[8, 64, 125, 216, 512, 1000, 1728, 2744, 3375, 4096, 5832, 8000, 10648, 13824, 15625, 17576, 21952, 27000, 32768, 39304, 42875, 46656, 54872, 64000, 74088, 85184, 91125, 97336, 110592, 125000, 140608, 157464, 166375, 175616, 195112, 216000, 238328, 262144, 274625, 287496, 314432, 343000, 373248, 405224, 421875, 438976, 474552, 512000, 551368, 592704, 614125, 636056, 681472, 729000, 778688, 830584, 857375, 884736, 941192, 1000000]\n"
     ]
    }
   ],
   "source": [
    "#ans.4\n",
    "a=[]\n",
    "for i in range (1,101):\n",
    "    a.append(i)\n",
    "print (a)\n",
    "b=[]\n",
    "i=0\n",
    "while i<100:\n",
    "    a[i]=a[i]**3\n",
    "    i=i+1\n",
    "for c in range (100):\n",
    "    if ((a[c])%4==0) or ((a[c])%5==0):\n",
    "        b.append(a[c])\n",
    "print (b)\n",
    "    \n",
    "    \n",
    "    "
   ]
  },
  {
   "cell_type": "code",
   "execution_count": 51,
   "id": "fd6c3b74-8499-4a2e-8957-9dbeaa7d6965",
   "metadata": {
    "tags": []
   },
   "outputs": [
    {
     "name": "stdout",
     "output_type": "stream",
     "text": [
      "12\n"
     ]
    }
   ],
   "source": [
    "#ans.5 :-\n",
    "string=\"i want to become a data scientist\"\n",
    "n=len(string)\n",
    "vowel=0\n",
    "a=['a','e','i','o','u']\n",
    "for i in range (n):\n",
    "    for j in a:\n",
    "        if string[i]==j:\n",
    "            vowel=vowel+1\n",
    "print (vowel)"
   ]
  },
  {
   "cell_type": "code",
   "execution_count": null,
   "id": "8e074528-9dac-44f2-812b-5ece108d523f",
   "metadata": {},
   "outputs": [],
   "source": []
  }
 ],
 "metadata": {
  "kernelspec": {
   "display_name": "Python 3 (ipykernel)",
   "language": "python",
   "name": "python3"
  },
  "language_info": {
   "codemirror_mode": {
    "name": "ipython",
    "version": 3
   },
   "file_extension": ".py",
   "mimetype": "text/x-python",
   "name": "python",
   "nbconvert_exporter": "python",
   "pygments_lexer": "ipython3",
   "version": "3.10.8"
  }
 },
 "nbformat": 4,
 "nbformat_minor": 5
}
