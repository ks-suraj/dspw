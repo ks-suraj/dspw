{
 "cells": [
  {
   "cell_type": "code",
   "execution_count": 8,
   "id": "17721c62-52af-4bbe-b0ae-d53d6f431cb2",
   "metadata": {},
   "outputs": [
    {
     "name": "stdin",
     "output_type": "stream",
     "text": [
      "enter the marks : 69\n"
     ]
    },
    {
     "name": "stdout",
     "output_type": "stream",
     "text": [
      "grade = C\n"
     ]
    }
   ],
   "source": [
    "# Q1 :- write a program to accept percentage from the user and display grade accordingly ?\n",
    "a=int(input(\"enter the marks :\"))\n",
    "if a <= 100 :\n",
    "    b=a/10\n",
    "    if b>=9 :\n",
    "        print(\"grade = A\")\n",
    "    elif b>=8 and b<=9 :\n",
    "        print(\"grade = B\")\n",
    "    elif b>=6 and b<=8 :\n",
    "        print(\"grade = C\")\n",
    "    elif b<6 :\n",
    "        print(\"grsde = D\")\n",
    "else :\n",
    "    print(\"enter below 100\")"
   ]
  },
  {
   "cell_type": "code",
   "execution_count": 1,
   "id": "49bdc3cf-4a28-44e7-8781-5732e7ddb023",
   "metadata": {},
   "outputs": [
    {
     "name": "stdin",
     "output_type": "stream",
     "text": [
      "enter the price 80000\n"
     ]
    },
    {
     "name": "stdout",
     "output_type": "stream",
     "text": [
      "the tax to be paid is :  8000.0\n"
     ]
    }
   ],
   "source": [
    "# Q2 :- Write a progrsm to accept cost price of a bike and display the road tax to be paid accordingly\n",
    "a=int(input(\"enter the price\"))\n",
    "if a > 100000:\n",
    "    b=(15/100)*a\n",
    "    print(\"the tax to be paid is :\",b)\n",
    "elif a > 50000 and a <= 100000 :\n",
    "    b=(10/100)*a\n",
    "    print(\"the tax to be paid is : \",b)\n",
    "else :\n",
    "    b=(5/100)*a\n",
    "    print(\"the tax to be paid is : \",b)"
   ]
  },
  {
   "cell_type": "code",
   "execution_count": 2,
   "id": "f0a25666-c405-45d8-8c8f-cf70172e0a4a",
   "metadata": {},
   "outputs": [
    {
     "name": "stdout",
     "output_type": "stream",
     "text": [
      "dict_keys(['delhi', 'agra', 'jaipur'])\n"
     ]
    },
    {
     "name": "stdin",
     "output_type": "stream",
     "text": [
      "enter the city name: delhi\n"
     ]
    },
    {
     "name": "stdout",
     "output_type": "stream",
     "text": [
      "red fort\n"
     ]
    }
   ],
   "source": [
    "# Q3 :- Accept any city from the user and display the monuments of that city\n",
    "a={\"delhi\":\"red fort\",\"agra\":\"taj mahal\",\"jaipur\":\"jal maha;\"}\n",
    "print(a.keys())\n",
    "b=input(\"enter the city name:\")\n",
    "print(a[b])"
   ]
  },
  {
   "cell_type": "code",
   "execution_count": 5,
   "id": "02b80b93-1168-42c9-b217-c66f554c89fa",
   "metadata": {},
   "outputs": [
    {
     "name": "stdin",
     "output_type": "stream",
     "text": [
      "enter the number : 900\n"
     ]
    },
    {
     "name": "stdout",
     "output_type": "stream",
     "text": [
      "5\n"
     ]
    }
   ],
   "source": [
    "# Q4 :- Check how many times a nuber can be divided by 3 before it is less than or equal 10 ?\n",
    "a=int(input(\"enter the number :\"))\n",
    "n=0\n",
    "while a > 10 :\n",
    "    a=a/3\n",
    "    n=n+1\n",
    "print(n)\n",
    "    "
   ]
  },
  {
   "cell_type": "code",
   "execution_count": 6,
   "id": "610e30ad-dcaa-4004-bc94-93abac5cf5b9",
   "metadata": {},
   "outputs": [],
   "source": [
    "# Q5 :- Why and when to use while loop in python give a detailed description in python ?\n",
    "# ans :- while loop is used when we do not have an idea of number of times a loop has to run.\n",
    "#        eg : a=int(input(\"enter the number :\"))\n",
    "#             n=0\n",
    "#             while a > 10 :\n",
    "#                 a=a/3\n",
    "#                 n=n+1\n",
    "#             print(n)\n",
    "#             - in the above example we do not know what the user would give input hence we do not know how many times a loop has to run, hence we used\n",
    "#               while loop\n"
   ]
  },
  {
   "cell_type": "code",
   "execution_count": 21,
   "id": "2787a471-af65-4f44-9fa4-26b3d7aa989d",
   "metadata": {},
   "outputs": [
    {
     "name": "stdout",
     "output_type": "stream",
     "text": [
      "pattern 1\n",
      "\n",
      "\n",
      " @ \n",
      " @  @ \n",
      " @  @  @ \n",
      " @  @  @  @ \n",
      " @  @  @  @  @ \n",
      " @  @  @  @  @  @ \n",
      " @  @  @  @  @  @  @ \n",
      " @  @  @  @  @  @  @  @ \n",
      " @  @  @  @  @  @  @  @  @ \n",
      "\n",
      "\n",
      "\n",
      "pattern 2\n",
      "\n",
      "\n",
      "                            @ \n",
      "                         @  @  @ \n",
      "                      @  @  @  @  @ \n",
      "                   @  @  @  @  @  @  @ \n",
      "                @  @  @  @  @  @  @  @  @ \n",
      "             @  @  @  @  @  @  @  @  @  @  @ \n",
      "          @  @  @  @  @  @  @  @  @  @  @  @  @ \n",
      "       @  @  @  @  @  @  @  @  @  @  @  @  @  @  @ \n",
      "    @  @  @  @  @  @  @  @  @  @  @  @  @  @  @  @  @ \n",
      "\n",
      "\n",
      "\n",
      "pattern 3\n",
      "\n",
      "\n",
      " @  @  @  @  @  @  @  @  @  @ \n",
      " @  @  @  @  @  @  @  @  @ \n",
      " @  @  @  @  @  @  @  @ \n",
      " @  @  @  @  @  @  @ \n",
      " @  @  @  @  @  @ \n",
      " @  @  @  @  @ \n",
      " @  @  @  @ \n",
      " @  @  @ \n",
      " @  @ \n",
      " @ \n",
      " @  @ \n",
      " @  @  @ \n",
      " @  @  @  @ \n",
      " @  @  @  @  @ \n",
      " @  @  @  @  @  @ \n",
      " @  @  @  @  @  @  @ \n",
      " @  @  @  @  @  @  @  @ \n",
      " @  @  @  @  @  @  @  @  @ \n",
      " @  @  @  @  @  @  @  @  @  @ \n"
     ]
    }
   ],
   "source": [
    "# Q6 :- Use nested while loop to print 3 differnet patterns ?\n",
    "print(\"pattern 1\")\n",
    "print(\"\\n\")\n",
    "a=1\n",
    "b=1\n",
    "c=10\n",
    "while a < 10 :\n",
    "    print(a * \" @ \")\n",
    "    a+=1\n",
    "print(2*\"\\n\")\n",
    "print (\"pattern 2\")\n",
    "print(\"\\n\")\n",
    "while b < 10 :\n",
    "    print (((10-b) * \"   \") +((b-1) * \" @ \") +  (b * \" @ \"))\n",
    "    b+=1\n",
    "print(2*\"\\n\")\n",
    "print (\"pattern 3\")\n",
    "print(\"\\n\")\n",
    "while c > 1 :\n",
    "    print(c * \" @ \")\n",
    "    c-=1\n",
    "while c < 11 :\n",
    "    print (c * \" @ \")\n",
    "    c+=1\n"
   ]
  },
  {
   "cell_type": "code",
   "execution_count": 5,
   "id": "e99c09cd-610e-45c7-8cbc-2d0ec50d2d2c",
   "metadata": {},
   "outputs": [
    {
     "name": "stdout",
     "output_type": "stream",
     "text": [
      "10\n",
      "9\n",
      "8\n",
      "7\n",
      "6\n",
      "5\n",
      "4\n",
      "3\n",
      "2\n",
      "1\n"
     ]
    }
   ],
   "source": [
    "# Q7 :- Reverse a while loop to displsy numbers from 10 tom 1.\n",
    "a=10\n",
    "while a>0:\n",
    "    print (a)\n",
    "    a-=1"
   ]
  },
  {
   "cell_type": "code",
   "execution_count": 6,
   "id": "05ccc2bf-e64f-47ad-b2c3-25f27ac32f24",
   "metadata": {},
   "outputs": [
    {
     "name": "stdout",
     "output_type": "stream",
     "text": [
      "10\n",
      "9\n",
      "8\n",
      "7\n",
      "6\n",
      "5\n",
      "4\n",
      "3\n",
      "2\n",
      "1\n"
     ]
    }
   ],
   "source": [
    "# Q8 :- Reverse a while loop to displsy numbers from 10 tom 1.\n",
    "a=10\n",
    "while a>0:\n",
    "    print (a)\n",
    "    a-=1"
   ]
  },
  {
   "cell_type": "code",
   "execution_count": null,
   "id": "6d391cf0-76bf-4794-b3b2-afe6a525cec2",
   "metadata": {},
   "outputs": [],
   "source": []
  }
 ],
 "metadata": {
  "kernelspec": {
   "display_name": "Python 3 (ipykernel)",
   "language": "python",
   "name": "python3"
  },
  "language_info": {
   "codemirror_mode": {
    "name": "ipython",
    "version": 3
   },
   "file_extension": ".py",
   "mimetype": "text/x-python",
   "name": "python",
   "nbconvert_exporter": "python",
   "pygments_lexer": "ipython3",
   "version": "3.10.8"
  }
 },
 "nbformat": 4,
 "nbformat_minor": 5
}
